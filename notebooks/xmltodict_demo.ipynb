{
 "cells": [
  {
   "cell_type": "markdown",
   "metadata": {},
   "source": [
    "# Demo for Harvesting a Zenodo Community Collection with xmltodict"
   ]
  },
  {
   "cell_type": "code",
   "execution_count": 1,
   "metadata": {
    "collapsed": true
   },
   "outputs": [],
   "source": [
    "import json\n",
    "import pprint\n",
    "import functools\n",
    "\n",
    "import xmltodict\n",
    "import requests"
   ]
  },
  {
   "cell_type": "code",
   "execution_count": 2,
   "metadata": {
    "collapsed": true
   },
   "outputs": [],
   "source": [
    "pp = pprint.PrettyPrinter(indent=0, width=60, compact=True)"
   ]
  },
  {
   "cell_type": "markdown",
   "metadata": {},
   "source": [
    "URL for the *community* on Zenodo, which in this case is `lsst-dm`. Note that we're using the `oai_datacite3` "
   ]
  },
  {
   "cell_type": "code",
   "execution_count": 3,
   "metadata": {
    "collapsed": true
   },
   "outputs": [],
   "source": [
    "url = 'http://zenodo.org/oai2d?verb=ListRecords&metadataPrefix=oai_datacite3&set=user-lsst-dm'"
   ]
  },
  {
   "cell_type": "markdown",
   "metadata": {},
   "source": [
    "Now we get the collection's XML metadata in `oai_datacite3` format.\n",
    "\n",
    "We use `xmltodict` to parse into a Python `dict` structure. Note that `process_namespaces=False` is preferred since the full namespace information is unncesssary for us."
   ]
  },
  {
   "cell_type": "code",
   "execution_count": 4,
   "metadata": {
    "collapsed": false
   },
   "outputs": [],
   "source": [
    "r = requests.get(url)\n",
    "r.status_code\n",
    "xml_content = r.content"
   ]
  },
  {
   "cell_type": "code",
   "execution_count": 5,
   "metadata": {
    "collapsed": true
   },
   "outputs": [],
   "source": [
    "dataset = xmltodict.parse(xml_content, process_namespaces=False)"
   ]
  },
  {
   "cell_type": "markdown",
   "metadata": {},
   "source": [
    "The XML contains several hierachical levels of metadata about the metadata spec. Three levels down we find a list of records."
   ]
  },
  {
   "cell_type": "code",
   "execution_count": 6,
   "metadata": {
    "collapsed": false
   },
   "outputs": [],
   "source": [
    "records = dataset['OAI-PMH']['ListRecords']['record']"
   ]
  },
  {
   "cell_type": "markdown",
   "metadata": {},
   "source": [
    "`records` is a list; each item is an `OrderedDict` containing metadata about that Zenodo upload. Here's we'll look at the first one."
   ]
  },
  {
   "cell_type": "code",
   "execution_count": 7,
   "metadata": {
    "collapsed": false
   },
   "outputs": [
    {
     "name": "stdout",
     "output_type": "stream",
     "text": [
      "OrderedDict([('header',\n",
      "            OrderedDict([('identifier',\n",
      "                        'oai:zenodo.org:33711'),\n",
      "                        ('datestamp',\n",
      "                        '2015-11-23T23:29:09Z'),\n",
      "                        ('setSpec', 'user-lsst-dm')])),\n",
      "            ('metadata',\n",
      "            OrderedDict([('oai_datacite',\n",
      "                        OrderedDict([('@xmlns:xsi',\n",
      "                                    'http://www.w3.org/2001/XMLSchema-instance'),\n",
      "                                    ('@xsi:schemaLocation',\n",
      "                                    'http://schema.datacite.org/oai/oai-1.0/ '\n",
      "                                    'http://schema.datacite.org/oai/oai-1.0/oai.xsd'),\n",
      "                                    ('isReferenceQuality',\n",
      "                                    'true'),\n",
      "                                    ('schemaVersion',\n",
      "                                    '3.1'),\n",
      "                                    ('datacentreSymbol',\n",
      "                                    'CERN.ZENODO'),\n",
      "                                    ('payload',\n",
      "                                    OrderedDict([('resource',\n",
      "                                                OrderedDict([('@xmlns',\n",
      "                                                            'http://datacite.org/schema/kernel-3'),\n",
      "                                                            ('@xsi:schemaLocation',\n",
      "                                                            'http://datacite.org/schema/kernel-3 '\n",
      "                                                            'http://schema.datacite.org/meta/kernel-3/metadata.xsd'),\n",
      "                                                            ('identifier',\n",
      "                                                            OrderedDict([('@identifierType',\n",
      "                                                                        'DOI'),\n",
      "                                                                        ('#text',\n",
      "                                                                        '10.5281/zenodo.33711')])),\n",
      "                                                            ('creators',\n",
      "                                                            OrderedDict([('creator',\n",
      "                                                                        [OrderedDict([('creatorName',\n",
      "                                                                                    'Frossie '\n",
      "                                                                                    'Economou'),\n",
      "                                                                                    ('affiliation',\n",
      "                                                                                    'LSST')]),\n",
      "                                                                        OrderedDict([('creatorName',\n",
      "                                                                                    'JMatt '\n",
      "                                                                                    'Peterson'),\n",
      "                                                                                    ('affiliation',\n",
      "                                                                                    'LSST')]),\n",
      "                                                                        OrderedDict([('creatorName',\n",
      "                                                                                    'Joshua '\n",
      "                                                                                    'Hoblitt'),\n",
      "                                                                                    ('affiliation',\n",
      "                                                                                    'LSST')]),\n",
      "                                                                        OrderedDict([('creatorName',\n",
      "                                                                                    'Jonathan '\n",
      "                                                                                    'Sick'),\n",
      "                                                                                    ('affiliation',\n",
      "                                                                                    'LSST')])])])),\n",
      "                                                            ('titles',\n",
      "                                                            OrderedDict([('title',\n",
      "                                                                        'SQR-001 '\n",
      "                                                                        'v1.0')])),\n",
      "                                                            ('publisher',\n",
      "                                                            'Zenodo'),\n",
      "                                                            ('publicationYear',\n",
      "                                                            '2015'),\n",
      "                                                            ('subjects',\n",
      "                                                            OrderedDict([('subject',\n",
      "                                                                        ['lsst',\n",
      "                                                                        'lsst-sqr'])])),\n",
      "                                                            ('contributors',\n",
      "                                                            None),\n",
      "                                                            ('dates',\n",
      "                                                            OrderedDict([('date',\n",
      "                                                                        OrderedDict([('@dateType',\n",
      "                                                                                    'Issued'),\n",
      "                                                                                    ('#text',\n",
      "                                                                                    '2015-11-05')]))])),\n",
      "                                                            ('resourceType',\n",
      "                                                            OrderedDict([('@resourceTypeGeneral',\n",
      "                                                                        'Text'),\n",
      "                                                                        ('#text',\n",
      "                                                                        'technicalnote')])),\n",
      "                                                            ('alternateIdentifiers',\n",
      "                                                            OrderedDict([('alternateIdentifier',\n",
      "                                                                        OrderedDict([('@alternateIdentifierType',\n",
      "                                                                                    'URL'),\n",
      "                                                                                    ('#text',\n",
      "                                                                                    'http://zenodo.org/record/33711')]))])),\n",
      "                                                            ('relatedIdentifiers',\n",
      "                                                            OrderedDict([('relatedIdentifier',\n",
      "                                                                        [OrderedDict([('@relationType',\n",
      "                                                                                    'IsSupplementTo'),\n",
      "                                                                                    ('@relatedIdentifierType',\n",
      "                                                                                    'URL'),\n",
      "                                                                                    ('#text',\n",
      "                                                                                    'https://github.com/lsst-sqre/technote-001/tree/v1.0')]),\n",
      "                                                                        OrderedDict([('@relationType',\n",
      "                                                                                    'Compiles'),\n",
      "                                                                                    ('@relatedIdentifierType',\n",
      "                                                                                    'URL'),\n",
      "                                                                                    ('#text',\n",
      "                                                                                    'http://sqr-001.lsst.io')]),\n",
      "                                                                        OrderedDict([('@relationType',\n",
      "                                                                                    'HasPart'),\n",
      "                                                                                    ('@relatedIdentifierType',\n",
      "                                                                                    'URL'),\n",
      "                                                                                    ('#text',\n",
      "                                                                                    'https://zenodo.org/record/33711/files/technote-001-v1.0.zip')])])])),\n",
      "                                                            ('rightsList',\n",
      "                                                            OrderedDict([('rights',\n",
      "                                                                        [OrderedDict([('@rightsURI',\n",
      "                                                                                    'info:eu-repo/semantics/openAccess'),\n",
      "                                                                                    ('#text',\n",
      "                                                                                    'Open '\n",
      "                                                                                    'Access')]),\n",
      "                                                                        OrderedDict([('@rightsURI',\n",
      "                                                                                    'http://creativecommons.org/licenses/by/4.0/'),\n",
      "                                                                                    ('#text',\n",
      "                                                                                    'Creative '\n",
      "                                                                                    'Commons '\n",
      "                                                                                    'Attribution '\n",
      "                                                                                    '4.0 '\n",
      "                                                                                    'International')])])])),\n",
      "                                                            ('descriptions',\n",
      "                                                            OrderedDict([('description',\n",
      "                                                                        OrderedDict([('@descriptionType',\n",
      "                                                                                    'Abstract'),\n",
      "                                                                                    ('#text',\n",
      "                                                                                    '<p>SQR-001: '\n",
      "                                                                                    'Git '\n",
      "                                                                                    'LFS '\n",
      "                                                                                    'Architecture '\n",
      "                                                                                    'Note&nbsp;version '\n",
      "                                                                                    '1.0 '\n",
      "                                                                                    'release</p>')]))]))]))]))]))]))])\n"
     ]
    }
   ],
   "source": [
    "record = records[0]\n",
    "pp.pprint(record)"
   ]
  },
  {
   "cell_type": "code",
   "execution_count": 8,
   "metadata": {
    "collapsed": false
   },
   "outputs": [
    {
     "data": {
      "text/plain": [
       "OrderedDict([('@xmlns', 'http://datacite.org/schema/kernel-3'),\n",
       "             ('@xsi:schemaLocation',\n",
       "              'http://datacite.org/schema/kernel-3 http://schema.datacite.org/meta/kernel-3/metadata.xsd'),\n",
       "             ('identifier',\n",
       "              OrderedDict([('@identifierType', 'DOI'),\n",
       "                           ('#text', '10.5281/zenodo.33711')])),\n",
       "             ('creators',\n",
       "              OrderedDict([('creator',\n",
       "                            [OrderedDict([('creatorName', 'Frossie Economou'),\n",
       "                                          ('affiliation', 'LSST')]),\n",
       "                             OrderedDict([('creatorName', 'JMatt Peterson'),\n",
       "                                          ('affiliation', 'LSST')]),\n",
       "                             OrderedDict([('creatorName', 'Joshua Hoblitt'),\n",
       "                                          ('affiliation', 'LSST')]),\n",
       "                             OrderedDict([('creatorName', 'Jonathan Sick'),\n",
       "                                          ('affiliation', 'LSST')])])])),\n",
       "             ('titles', OrderedDict([('title', 'SQR-001 v1.0')])),\n",
       "             ('publisher', 'Zenodo'),\n",
       "             ('publicationYear', '2015'),\n",
       "             ('subjects', OrderedDict([('subject', ['lsst', 'lsst-sqr'])])),\n",
       "             ('contributors', None),\n",
       "             ('dates',\n",
       "              OrderedDict([('date',\n",
       "                            OrderedDict([('@dateType', 'Issued'),\n",
       "                                         ('#text', '2015-11-05')]))])),\n",
       "             ('resourceType',\n",
       "              OrderedDict([('@resourceTypeGeneral', 'Text'),\n",
       "                           ('#text', 'technicalnote')])),\n",
       "             ('alternateIdentifiers',\n",
       "              OrderedDict([('alternateIdentifier',\n",
       "                            OrderedDict([('@alternateIdentifierType', 'URL'),\n",
       "                                         ('#text',\n",
       "                                          'http://zenodo.org/record/33711')]))])),\n",
       "             ('relatedIdentifiers',\n",
       "              OrderedDict([('relatedIdentifier',\n",
       "                            [OrderedDict([('@relationType', 'IsSupplementTo'),\n",
       "                                          ('@relatedIdentifierType', 'URL'),\n",
       "                                          ('#text',\n",
       "                                           'https://github.com/lsst-sqre/technote-001/tree/v1.0')]),\n",
       "                             OrderedDict([('@relationType', 'Compiles'),\n",
       "                                          ('@relatedIdentifierType', 'URL'),\n",
       "                                          ('#text',\n",
       "                                           'http://sqr-001.lsst.io')]),\n",
       "                             OrderedDict([('@relationType', 'HasPart'),\n",
       "                                          ('@relatedIdentifierType', 'URL'),\n",
       "                                          ('#text',\n",
       "                                           'https://zenodo.org/record/33711/files/technote-001-v1.0.zip')])])])),\n",
       "             ('rightsList',\n",
       "              OrderedDict([('rights',\n",
       "                            [OrderedDict([('@rightsURI',\n",
       "                                           'info:eu-repo/semantics/openAccess'),\n",
       "                                          ('#text', 'Open Access')]),\n",
       "                             OrderedDict([('@rightsURI',\n",
       "                                           'http://creativecommons.org/licenses/by/4.0/'),\n",
       "                                          ('#text',\n",
       "                                           'Creative Commons Attribution 4.0 International')])])])),\n",
       "             ('descriptions',\n",
       "              OrderedDict([('description',\n",
       "                            OrderedDict([('@descriptionType', 'Abstract'),\n",
       "                                         ('#text',\n",
       "                                          '<p>SQR-001: Git LFS Architecture Note&nbsp;version 1.0 release</p>')]))]))])"
      ]
     },
     "execution_count": 8,
     "metadata": {},
     "output_type": "execute_result"
    }
   ],
   "source": [
    "record['metadata']['oai_datacite']['payload']['resource']"
   ]
  },
  {
   "cell_type": "code",
   "execution_count": null,
   "metadata": {
    "collapsed": true
   },
   "outputs": [],
   "source": []
  }
 ],
 "metadata": {
  "kernelspec": {
   "display_name": "Python 3",
   "language": "python",
   "name": "python3"
  },
  "language_info": {
   "codemirror_mode": {
    "name": "ipython",
    "version": 3
   },
   "file_extension": ".py",
   "mimetype": "text/x-python",
   "name": "python",
   "nbconvert_exporter": "python",
   "pygments_lexer": "ipython3",
   "version": "3.5.0"
  }
 },
 "nbformat": 4,
 "nbformat_minor": 0
}
